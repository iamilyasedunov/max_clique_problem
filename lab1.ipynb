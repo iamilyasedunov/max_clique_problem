{
 "cells": [
  {
   "cell_type": "code",
   "execution_count": 1,
   "metadata": {},
   "outputs": [],
   "source": [
    "import cplex\n",
    "import networkx as nx"
   ]
  },
  {
   "cell_type": "code",
   "execution_count": 229,
   "metadata": {},
   "outputs": [],
   "source": [
    "def read_dimacs_graph(file_path):\n",
    "    '''\n",
    "        Parse .col file and return graph object\n",
    "    '''\n",
    "    edges = []\n",
    "    with open(file_path, 'r') as file:\n",
    "        for line in file:\n",
    "            if line.startswith('c'):  # graph description\n",
    "                print(*line.split()[1:])\n",
    "            # first line: p name num_of_vertices num_of_edges\n",
    "            elif line.startswith('p'):\n",
    "                _, name, vertices_num, edges_num = line.split()\n",
    "                print('{0} {1} {2}'.format(name, vertices_num, edges_num))\n",
    "            elif line.startswith('e'):\n",
    "                _, v1, v2 = line.split()\n",
    "                edges.append((v1, v2))\n",
    "            else:\n",
    "                continue\n",
    "        return nx.Graph(edges)"
   ]
  },
  {
   "cell_type": "code",
   "execution_count": 231,
   "metadata": {},
   "outputs": [
    {
     "name": "stdout",
     "output_type": "stream",
     "text": [
      "Solve ILP\n"
     ]
    }
   ],
   "source": [
    "solve_integer = True\n",
    "if solve_integer:\n",
    "    ONE = 1\n",
    "    ZERO = 0\n",
    "    print(\"Solve ILP\")\n",
    "else:\n",
    "    ONE = 1.0\n",
    "    ZERO = 0.0\n",
    "    print(\"Solve LP\")"
   ]
  },
  {
   "cell_type": "code",
   "execution_count": 232,
   "metadata": {},
   "outputs": [
    {
     "name": "stdout",
     "output_type": "stream",
     "text": [
      "File: san200_0.7_2.clq\n",
      "\n",
      "SOURCE: Laura Sanchis (laura@cs.colgate.edu)\n",
      "\n",
      "REFERENCE: \"Test Case Construction for the Vertex Cover Problem\",\n",
      "DIMACS Workshop on Computational Support for Discrete Mathematics,\n",
      "March, 1992, with additional work in a to be published technical\n",
      "report.\n",
      "\n",
      "200 vertices 13930 edges 18 max clique\n",
      "200 5970 182 3352 291624 12\n",
      "edge 200 13930\n"
     ]
    }
   ],
   "source": [
    "graph = read_dimacs_graph(\"benchs/max_clique_txt/DIMACS_all_ascii/san200_0.7_2.clq\")\n",
    "not_connected_edges_list = list(nx.complement(graph).edges)"
   ]
  },
  {
   "cell_type": "code",
   "execution_count": 233,
   "metadata": {},
   "outputs": [],
   "source": [
    "list_nodes = list(graph.nodes)\n",
    "list_nodes_int = [int(i) for i in list_nodes]\n",
    "list_nodes_int.sort()"
   ]
  },
  {
   "cell_type": "code",
   "execution_count": 234,
   "metadata": {},
   "outputs": [],
   "source": [
    "names = ['x' + str(i) for i in list_nodes_int]\n",
    "objective = [ONE] * max(list_nodes_int)\n",
    "lower_bounds = [ZERO] * max(list_nodes_int)\n",
    "upper_bounds = [ONE] * max(list_nodes_int)"
   ]
  },
  {
   "cell_type": "code",
   "execution_count": 235,
   "metadata": {},
   "outputs": [
    {
     "data": {
      "text/plain": [
       "range(0, 200)"
      ]
     },
     "execution_count": 235,
     "metadata": {},
     "output_type": "execute_result"
    }
   ],
   "source": [
    "problem = cplex.Cplex()\n",
    "problem.objective.set_sense(problem.objective.sense.maximize)\n",
    "problem.variables.add(obj = objective,\n",
    "                      lb = lower_bounds,\n",
    "                      ub = upper_bounds,\n",
    "                      names = names)"
   ]
  },
  {
   "cell_type": "code",
   "execution_count": 236,
   "metadata": {},
   "outputs": [],
   "source": [
    "constraint_names = [\"c\" + str(i) for i in range(len(not_connected_edges_list))]\n",
    "\n",
    "constraints = [[['x' + edges_pair[0], 'x' + edges_pair[1]], [ONE, ONE]] for edges_pair in not_connected_edges_list]\n",
    "rhs = [ONE] * len(constraints)\n",
    "constraint_senses = [\"L\"] * len(constraints)"
   ]
  },
  {
   "cell_type": "code",
   "execution_count": 237,
   "metadata": {},
   "outputs": [
    {
     "name": "stdout",
     "output_type": "stream",
     "text": [
      "Version identifier: 20.1.0.0 | 2020-11-10 | 9bedb6d68\n",
      "CPXPARAM_Read_DataCheck                          1\n",
      "Found incumbent of value 0.000000 after 0.00 sec. (0.04 ticks)\n",
      "Tried aggregator 1 time.\n",
      "MIP Presolve eliminated 4966 rows and 0 columns.\n",
      "MIP Presolve modified 1004 coefficients.\n",
      "Reduced MIP has 1004 rows, 200 columns, and 7521 nonzeros.\n",
      "Reduced MIP has 200 binaries, 0 generals, 0 SOSs, and 0 indicators.\n",
      "Presolve time = 0.03 sec. (17.99 ticks)\n",
      "Probing time = 0.00 sec. (0.83 ticks)\n",
      "Tried aggregator 1 time.\n",
      "Detecting symmetries...\n",
      "Reduced MIP has 1004 rows, 200 columns, and 7521 nonzeros.\n",
      "Reduced MIP has 200 binaries, 0 generals, 0 SOSs, and 0 indicators.\n",
      "Presolve time = 0.00 sec. (7.22 ticks)\n",
      "Probing time = 0.00 sec. (0.83 ticks)\n",
      "Clique table members: 1004.\n",
      "MIP emphasis: balance optimality and feasibility.\n",
      "MIP search method: dynamic search.\n",
      "Parallel mode: deterministic, using up to 8 threads.\n",
      "Root relaxation solution time = 0.08 sec. (68.56 ticks)\n",
      "\n",
      "        Nodes                                         Cuts/\n",
      "   Node  Left     Objective  IInf  Best Integer    Best Bound    ItCnt     Gap\n",
      "\n",
      "*     0+    0                            0.0000      200.0000              --- \n",
      "*     0+    0                           12.0000      200.0000              --- \n",
      "      0     0       22.8325   167       12.0000       22.8325     1624   90.27%\n",
      "*     0+    0                           15.0000       22.8325            52.22%\n",
      "      0     0       19.7421   157       15.0000      Cuts: 76     2212   31.61%\n",
      "      0     0       18.5000    91       15.0000      Cuts: 35     2605   23.33%\n",
      "*     0+    0                           18.0000       18.5000             2.78%\n",
      "      0     0        cutoff             18.0000                   2796     --- \n",
      "Elapsed time = 0.66 sec. (363.05 ticks, tree = 0.01 MB, solutions = 4)\n",
      "\n",
      "Clique cuts applied:  62\n",
      "Zero-half cuts applied:  56\n",
      "\n",
      "Root node processing (before b&c):\n",
      "  Real time             =    0.66 sec. (363.06 ticks)\n",
      "Parallel b&c, 8 threads:\n",
      "  Real time             =    0.00 sec. (0.00 ticks)\n",
      "  Sync time (average)   =    0.00 sec.\n",
      "  Wait time (average)   =    0.00 sec.\n",
      "                          ------------\n",
      "Total (root+branch&cut) =    0.66 sec. (363.06 ticks)\n"
     ]
    }
   ],
   "source": [
    "problem.linear_constraints.add(lin_expr = constraints,\n",
    "                               senses = constraint_senses,\n",
    "                               rhs = rhs,\n",
    "                               names = constraint_names)\n",
    "for i in list_nodes_int:\n",
    "    if solve_integer:\n",
    "        problem.variables.set_types(i - 1, problem.variables.type.binary)\n",
    "    else:\n",
    "        problem.variables.set_types(i - 1, problem.variables.type.continuous)\n",
    "\n",
    "problem.solve()\n",
    "val = problem.solution.get_values()"
   ]
  },
  {
   "cell_type": "code",
   "execution_count": 238,
   "metadata": {},
   "outputs": [
    {
     "data": {
      "text/plain": [
       "18.0"
      ]
     },
     "execution_count": 238,
     "metadata": {},
     "output_type": "execute_result"
    }
   ],
   "source": [
    "problem.solution.get_objective_value()"
   ]
  },
  {
   "cell_type": "code",
   "execution_count": 239,
   "metadata": {},
   "outputs": [
    {
     "name": "stdout",
     "output_type": "stream",
     "text": [
      "('Returns the number of semi-continuous variables in the problem.\\n'\n",
      " '\\n'\n",
      " '        Example usage:\\n'\n",
      " '\\n'\n",
      " '        >>> import cplex\\n'\n",
      " '        >>> c = cplex.Cplex()\\n'\n",
      " '        >>> t = c.variables.type\\n'\n",
      " '        >>> indices = c.variables.add(types = [t.semi_continuous, '\n",
      " 't.semi_integer, t.semi_integer])\\n'\n",
      " '        >>> c.variables.get_num_semicontinuous()\\n'\n",
      " '        1\\n'\n",
      " '        ')\n"
     ]
    }
   ],
   "source": [
    "import pprint\n",
    "pprint.pprint(problem.variables.get_num_semicontinuous.__doc__)"
   ]
  }
 ],
 "metadata": {
  "kernelspec": {
   "display_name": "Python 3",
   "language": "python",
   "name": "python3"
  },
  "language_info": {
   "codemirror_mode": {
    "name": "ipython",
    "version": 3
   },
   "file_extension": ".py",
   "mimetype": "text/x-python",
   "name": "python",
   "nbconvert_exporter": "python",
   "pygments_lexer": "ipython3",
   "version": "3.7.0"
  }
 },
 "nbformat": 4,
 "nbformat_minor": 4
}
